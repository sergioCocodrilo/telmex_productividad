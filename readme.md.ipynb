{
 "cells": [
  {
   "cell_type": "markdown",
   "id": "ffd365a9",
   "metadata": {},
   "source": [
    "# Propuesta de procesamiento\n",
    "\n",
    "Fecha: abril 2021\n",
    "\n",
    "#### Metodología\n",
    "1. Revisar el tipo de archivos disponibles.\n",
    "2. Revisar qué información está disponible en cada archivo, usualmente organizado en hojas.\n",
    "3. Buscar patrones por hoja con datos.\n",
    "\n",
    "---\n",
    "\n",
    "#### Tipos de archivos encontrados\n",
    "- rda_s2106.xls (información del 2021)\n",
    "- rdat_metro_20XX_pXX.xlsX (un archivo por mes con información del 2020)\n",
    "\n",
    "---\n",
    "\n",
    "#### Hojas por archivo\n",
    "- base: Contiene información de 'Planta Interna'\n",
    "- bLD: Contiene información de 'Telmex Lada'\n",
    "- BReincidencia: Contiene información de 'Planta Interna' y 'Telmex Lada'\n",
    "\n",
    "---\n",
    "\n",
    "## Procesamiento\n",
    "\n",
    "---\n",
    "\n",
    "#### base\n",
    "1. Separar los datos por tipo: (numéricos, fechas, texto)"
   ]
  },
  {
   "cell_type": "code",
   "execution_count": null,
   "id": "b129d151",
   "metadata": {},
   "outputs": [],
   "source": []
  }
 ],
 "metadata": {
  "kernelspec": {
   "display_name": "Python 3",
   "language": "python",
   "name": "python3"
  },
  "language_info": {
   "codemirror_mode": {
    "name": "ipython",
    "version": 3
   },
   "file_extension": ".py",
   "mimetype": "text/x-python",
   "name": "python",
   "nbconvert_exporter": "python",
   "pygments_lexer": "ipython3",
   "version": "3.9.3"
  }
 },
 "nbformat": 4,
 "nbformat_minor": 5
}
