{
 "cells": [
  {
   "cell_type": "markdown",
   "id": "e7fb37d9",
   "metadata": {},
   "source": [
    "Requirements:\n",
    "- pandas\n",
    "- openpyxl\n",
    "- xlrd\n",
    "- matplotlib"
   ]
  },
  {
   "cell_type": "code",
   "execution_count": 1,
   "id": "piano-champion",
   "metadata": {},
   "outputs": [],
   "source": [
    "import pandas as pd"
   ]
  },
  {
   "cell_type": "markdown",
   "id": "bound-enemy",
   "metadata": {},
   "source": [
    "## Data loading\n",
    "Merge all the monthly RDA reports."
   ]
  },
  {
   "cell_type": "code",
   "execution_count": 2,
   "id": "sized-satellite",
   "metadata": {},
   "outputs": [],
   "source": [
    "directory = '/home/sergio/Documents/Telmex/Productividad/Data/2020/rda/'\n",
    "file_prefix = 'rdat_metro'\n",
    "\n",
    "df = pd.DataFrame()\n",
    "\n",
    "import os\n",
    "rda_files = []\n",
    "columns = []\n",
    "for f in os.listdir(directory):\n",
    "    if f.startswith(file_prefix):\n",
    "        df_tmp = pd.read_excel(directory + f, sheet_name='base')\n",
    "        #print(f, '-', df_tmp.shape)\n",
    "        columns.append(df_tmp.columns)\n",
    "        df = df.append(df_tmp)\n",
    "        \n",
    "#print(df.shape)"
   ]
  },
  {
   "cell_type": "markdown",
   "id": "declared-spirituality",
   "metadata": {},
   "source": [
    "Pick just the ones related to CM_AB"
   ]
  },
  {
   "cell_type": "code",
   "execution_count": null,
   "id": "emerging-score",
   "metadata": {},
   "outputs": [],
   "source": [
    "df = df[df['CMANTENI'] == 'CMABS']\n",
    "print('Shape:', ab.shape)\n"
   ]
  },
  {
   "cell_type": "markdown",
   "id": "defensive-illness",
   "metadata": {},
   "source": [
    "Split columns by type"
   ]
  },
  {
   "cell_type": "code",
   "execution_count": 3,
   "id": "seven-durham",
   "metadata": {},
   "outputs": [],
   "source": [
    "#print(ab.dtypes)\n",
    "date_cols = df.select_dtypes('datetime')\n",
    "int_cols = df.select_dtypes('number')\n",
    "obj_cols = df.select_dtypes(object)\n",
    "#print(date_cols.shape)\n",
    "#print(int_cols.shape)\n",
    "#print(obj_cols.shape)"
   ]
  },
  {
   "cell_type": "markdown",
   "id": "absolute-purse",
   "metadata": {},
   "source": [
    "---\n",
    "# Numeric data\n",
    "Maybe a describe is good enough."
   ]
  },
  {
   "cell_type": "code",
   "execution_count": 4,
   "id": "corrected-advocate",
   "metadata": {},
   "outputs": [
    {
     "data": {
      "text/html": [
       "<div>\n",
       "<style scoped>\n",
       "    .dataframe tbody tr th:only-of-type {\n",
       "        vertical-align: middle;\n",
       "    }\n",
       "\n",
       "    .dataframe tbody tr th {\n",
       "        vertical-align: top;\n",
       "    }\n",
       "\n",
       "    .dataframe thead th {\n",
       "        text-align: right;\n",
       "    }\n",
       "</style>\n",
       "<table border=\"1\" class=\"dataframe\">\n",
       "  <thead>\n",
       "    <tr style=\"text-align: right;\">\n",
       "      <th></th>\n",
       "      <th>DURACTE</th>\n",
       "      <th>DURAREP</th>\n",
       "      <th>DURATLM</th>\n",
       "      <th>FOLIOF</th>\n",
       "      <th>FOLIOQ</th>\n",
       "      <th>COD01</th>\n",
       "      <th>COD02</th>\n",
       "      <th>COD03</th>\n",
       "      <th>COD04</th>\n",
       "      <th>COD05</th>\n",
       "      <th>FOL_SER</th>\n",
       "      <th>t_1a_oin_c</th>\n",
       "    </tr>\n",
       "  </thead>\n",
       "  <tbody>\n",
       "    <tr>\n",
       "      <th>count</th>\n",
       "      <td>6613.000000</td>\n",
       "      <td>6643.000000</td>\n",
       "      <td>6619.000000</td>\n",
       "      <td>6.643000e+03</td>\n",
       "      <td>6.643000e+03</td>\n",
       "      <td>6643.000000</td>\n",
       "      <td>6643.000000</td>\n",
       "      <td>6643.000000</td>\n",
       "      <td>6643.000000</td>\n",
       "      <td>6643.000000</td>\n",
       "      <td>6.605000e+03</td>\n",
       "      <td>2165.000000</td>\n",
       "    </tr>\n",
       "    <tr>\n",
       "      <th>mean</th>\n",
       "      <td>11.906132</td>\n",
       "      <td>7.860974</td>\n",
       "      <td>5.304884</td>\n",
       "      <td>7.826650e+06</td>\n",
       "      <td>7.826650e+06</td>\n",
       "      <td>3.428120</td>\n",
       "      <td>3.190577</td>\n",
       "      <td>25.409002</td>\n",
       "      <td>22.119073</td>\n",
       "      <td>108.091525</td>\n",
       "      <td>2.757802e+06</td>\n",
       "      <td>0.250808</td>\n",
       "    </tr>\n",
       "    <tr>\n",
       "      <th>std</th>\n",
       "      <td>140.676966</td>\n",
       "      <td>89.086961</td>\n",
       "      <td>86.873133</td>\n",
       "      <td>1.516093e+05</td>\n",
       "      <td>1.516088e+05</td>\n",
       "      <td>0.999882</td>\n",
       "      <td>1.209015</td>\n",
       "      <td>77.206022</td>\n",
       "      <td>12.265339</td>\n",
       "      <td>1.993378</td>\n",
       "      <td>9.475093e+06</td>\n",
       "      <td>6.411375</td>\n",
       "    </tr>\n",
       "    <tr>\n",
       "      <th>min</th>\n",
       "      <td>-3.930000</td>\n",
       "      <td>-3.933333</td>\n",
       "      <td>-92.660000</td>\n",
       "      <td>7.391937e+06</td>\n",
       "      <td>7.391937e+06</td>\n",
       "      <td>1.000000</td>\n",
       "      <td>1.000000</td>\n",
       "      <td>1.000000</td>\n",
       "      <td>4.000000</td>\n",
       "      <td>103.000000</td>\n",
       "      <td>8.275000e+03</td>\n",
       "      <td>-10.000000</td>\n",
       "    </tr>\n",
       "    <tr>\n",
       "      <th>25%</th>\n",
       "      <td>1.450000</td>\n",
       "      <td>1.116666</td>\n",
       "      <td>0.360000</td>\n",
       "      <td>7.699852e+06</td>\n",
       "      <td>7.699852e+06</td>\n",
       "      <td>2.000000</td>\n",
       "      <td>3.000000</td>\n",
       "      <td>6.000000</td>\n",
       "      <td>12.000000</td>\n",
       "      <td>109.000000</td>\n",
       "      <td>1.377817e+06</td>\n",
       "      <td>0.000000</td>\n",
       "    </tr>\n",
       "    <tr>\n",
       "      <th>50%</th>\n",
       "      <td>2.720000</td>\n",
       "      <td>2.100000</td>\n",
       "      <td>1.420000</td>\n",
       "      <td>7.803686e+06</td>\n",
       "      <td>7.803686e+06</td>\n",
       "      <td>4.000000</td>\n",
       "      <td>3.000000</td>\n",
       "      <td>11.000000</td>\n",
       "      <td>25.000000</td>\n",
       "      <td>109.000000</td>\n",
       "      <td>1.657944e+06</td>\n",
       "      <td>0.000000</td>\n",
       "    </tr>\n",
       "    <tr>\n",
       "      <th>75%</th>\n",
       "      <td>8.010000</td>\n",
       "      <td>3.550000</td>\n",
       "      <td>2.730000</td>\n",
       "      <td>7.955580e+06</td>\n",
       "      <td>7.955580e+06</td>\n",
       "      <td>4.000000</td>\n",
       "      <td>3.000000</td>\n",
       "      <td>17.000000</td>\n",
       "      <td>31.000000</td>\n",
       "      <td>109.000000</td>\n",
       "      <td>1.869976e+06</td>\n",
       "      <td>0.000000</td>\n",
       "    </tr>\n",
       "    <tr>\n",
       "      <th>max</th>\n",
       "      <td>8756.000000</td>\n",
       "      <td>6965.116666</td>\n",
       "      <td>6965.110000</td>\n",
       "      <td>8.103753e+06</td>\n",
       "      <td>8.103753e+06</td>\n",
       "      <td>4.000000</td>\n",
       "      <td>6.000000</td>\n",
       "      <td>469.000000</td>\n",
       "      <td>68.000000</td>\n",
       "      <td>111.000000</td>\n",
       "      <td>8.250847e+07</td>\n",
       "      <td>223.000000</td>\n",
       "    </tr>\n",
       "  </tbody>\n",
       "</table>\n",
       "</div>"
      ],
      "text/plain": [
       "           DURACTE      DURAREP      DURATLM        FOLIOF        FOLIOQ  \\\n",
       "count  6613.000000  6643.000000  6619.000000  6.643000e+03  6.643000e+03   \n",
       "mean     11.906132     7.860974     5.304884  7.826650e+06  7.826650e+06   \n",
       "std     140.676966    89.086961    86.873133  1.516093e+05  1.516088e+05   \n",
       "min      -3.930000    -3.933333   -92.660000  7.391937e+06  7.391937e+06   \n",
       "25%       1.450000     1.116666     0.360000  7.699852e+06  7.699852e+06   \n",
       "50%       2.720000     2.100000     1.420000  7.803686e+06  7.803686e+06   \n",
       "75%       8.010000     3.550000     2.730000  7.955580e+06  7.955580e+06   \n",
       "max    8756.000000  6965.116666  6965.110000  8.103753e+06  8.103753e+06   \n",
       "\n",
       "             COD01        COD02        COD03        COD04        COD05  \\\n",
       "count  6643.000000  6643.000000  6643.000000  6643.000000  6643.000000   \n",
       "mean      3.428120     3.190577    25.409002    22.119073   108.091525   \n",
       "std       0.999882     1.209015    77.206022    12.265339     1.993378   \n",
       "min       1.000000     1.000000     1.000000     4.000000   103.000000   \n",
       "25%       2.000000     3.000000     6.000000    12.000000   109.000000   \n",
       "50%       4.000000     3.000000    11.000000    25.000000   109.000000   \n",
       "75%       4.000000     3.000000    17.000000    31.000000   109.000000   \n",
       "max       4.000000     6.000000   469.000000    68.000000   111.000000   \n",
       "\n",
       "            FOL_SER   t_1a_oin_c  \n",
       "count  6.605000e+03  2165.000000  \n",
       "mean   2.757802e+06     0.250808  \n",
       "std    9.475093e+06     6.411375  \n",
       "min    8.275000e+03   -10.000000  \n",
       "25%    1.377817e+06     0.000000  \n",
       "50%    1.657944e+06     0.000000  \n",
       "75%    1.869976e+06     0.000000  \n",
       "max    8.250847e+07   223.000000  "
      ]
     },
     "execution_count": 4,
     "metadata": {},
     "output_type": "execute_result"
    }
   ],
   "source": [
    "int_cols.describe()"
   ]
  },
  {
   "cell_type": "markdown",
   "id": "european-thinking",
   "metadata": {},
   "source": [
    "---\n",
    "# Date data"
   ]
  },
  {
   "cell_type": "code",
   "execution_count": null,
   "id": "d236e000",
   "metadata": {},
   "outputs": [],
   "source": [
    "'''\n",
    "# Some testing\n",
    "months = date_cols['FECHA_REAL'].dt.month\n",
    "ab_MONTH = ab.join(months, rsuffix='_MONTH')\n",
    "ab_MONTH[['FECHA_REAL', 'FECHA_REAL_MONTH']]\n",
    "'''"
   ]
  },
  {
   "cell_type": "markdown",
   "id": "wicked-market",
   "metadata": {},
   "source": [
    "----\n",
    "### Count by days"
   ]
  },
  {
   "cell_type": "code",
   "execution_count": 5,
   "id": "hungry-placement",
   "metadata": {},
   "outputs": [],
   "source": [
    "instances_by_day = df['FECHA_REAL'].dt.floor('d').value_counts()\n",
    "xs = instances_by_day.index\n",
    "ys = instances_by_day.values"
   ]
  },
  {
   "cell_type": "markdown",
   "id": "40076987",
   "metadata": {},
   "source": [
    "### Count by months"
   ]
  },
  {
   "cell_type": "code",
   "execution_count": 20,
   "id": "necessary-cartridge",
   "metadata": {},
   "outputs": [],
   "source": [
    "instances_by_month = df['FECHA_REAL'].groupby([df.FECHA_REAL.dt.year, df.FECHA_REAL.dt.month]).agg('count')\n",
    "instances_by_month = pd.DataFrame(instances_by_month)\n",
    "instances_by_month['year_month'] = instances_by_month.index.to_series().apply(lambda x: '{0}-{1:02}'.format(*x))\n",
    "instances_by_month = instances_by_month.set_index('year_month')\n",
    "instances_by_month = instances_by_month.rename(columns = {'FECHA_REAL': 'instancias'})\n",
    "#instances_by_month"
   ]
  },
  {
   "cell_type": "markdown",
   "id": "increased-engineering",
   "metadata": {},
   "source": [
    "---\n",
    "# Plotting"
   ]
  },
  {
   "cell_type": "code",
   "execution_count": 11,
   "id": "exciting-heritage",
   "metadata": {},
   "outputs": [],
   "source": [
    "import seaborn as sns"
   ]
  },
  {
   "cell_type": "code",
   "execution_count": null,
   "id": "cc270b75",
   "metadata": {},
   "outputs": [],
   "source": [
    "df = pd.DataFrame(instances_by_day)\n",
    "df = df.sort_index()"
   ]
  },
  {
   "cell_type": "code",
   "execution_count": 23,
   "id": "related-cookie",
   "metadata": {},
   "outputs": [
    {
     "data": {
      "image/png": "[encoded data removed]",
      "text/plain": [
       "<Figure size 432x288 with 1 Axes>"
      ]
     },
     "metadata": {
      "needs_background": "light"
     },
     "output_type": "display_data"
    }
   ],
   "source": [
    "sns.lineplot(x ='year_month', y = 'instancias', data=instances_by_month);"
   ]
  },
  {
   "cell_type": "markdown",
   "id": "herbal-melissa",
   "metadata": {},
   "source": [
    "### Making it smoother\n",
    "This gets complicated, because to make it smoother, a model needs to be found so that it 'emulates' the points with a softer line."
   ]
  }
 ],
 "metadata": {
  "kernelspec": {
   "display_name": "Python 3",
   "language": "python",
   "name": "python3"
  },
  "language_info": {
   "codemirror_mode": {
    "name": "ipython",
    "version": 3
   },
   "file_extension": ".py",
   "mimetype": "text/x-python",
   "name": "python",
   "nbconvert_exporter": "python",
   "pygments_lexer": "ipython3",
   "version": "3.9.2"
  }
 },
 "nbformat": 4,
 "nbformat_minor": 5
}
